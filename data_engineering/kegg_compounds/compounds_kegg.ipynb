{
 "cells": [
  {
   "cell_type": "markdown",
   "metadata": {},
   "source": [
    "# Make API call to KEGG compounds and download all data"
   ]
  },
  {
   "cell_type": "markdown",
   "metadata": {},
   "source": [
    "### Depends on KEGG API setup\n",
    "\n",
    "More info: https://www.kegg.jp/kegg/rest/keggapi.html"
   ]
  },
  {
   "cell_type": "code",
   "execution_count": 2,
   "metadata": {},
   "outputs": [],
   "source": [
    "import requests as req\n",
    "from io import StringIO\n",
    "import pandas as pd\n",
    "import data_utils as du\n",
    "\n",
    "data_dir = du.find_data_dir('app')\n",
    "\n",
    "kegg_compounds_csv_file = du.get_file_path(data_dir, 'Kegg compounds', 'csv', 'kegg_compounds.csv')\n",
    "kegg_compounds_pickle_file = du.get_file_path(data_dir, 'Kegg compounds', 'pickle', 'kegg_compounds.p')"
   ]
  },
  {
   "cell_type": "markdown",
   "metadata": {},
   "source": [
    "#### Functions"
   ]
  },
  {
   "cell_type": "code",
   "execution_count": 74,
   "metadata": {},
   "outputs": [],
   "source": [
    "def convert_kegg_compounds_df_to_dicts(kegg_compounds_df):\n",
    "    kegg_compounds = kegg_compounds_df.to_dict('records')\n",
    "\n",
    "    for kegg_compound in kegg_compounds:\n",
    "        kegg_compound['names'] = kegg_compound['name'].split(';')\n",
    "        del kegg_compound['name']\n",
    "    \n",
    "    return kegg_compounds\n",
    "\n",
    "def download_kegg_compounds():\n",
    "    operation = 'list'\n",
    "    argument = 'compound'\n",
    "    kegg_response = req.get(f\"http://rest.kegg.jp/{operation}/{argument}/\")\n",
    "\n",
    "    kegg_compounds_df = pd.read_csv(StringIO(kegg_response.content.decode(\"utf-8\")), delimiter ='\\t', names=['accession', 'name'])\n",
    "    return kegg_compounds_df"
   ]
  },
  {
   "cell_type": "markdown",
   "metadata": {},
   "source": [
    "#### Download KEGG compounds"
   ]
  },
  {
   "cell_type": "code",
   "execution_count": 75,
   "metadata": {},
   "outputs": [],
   "source": [
    "kegg_compounds_df = download_kegg_compounds()\n",
    "kegg_compounds = convert_kegg_compounds_df_to_dicts(kegg_compounds_df)"
   ]
  },
  {
   "cell_type": "markdown",
   "metadata": {},
   "source": [
    "#### Export to data storage"
   ]
  },
  {
   "cell_type": "code",
   "execution_count": 77,
   "metadata": {},
   "outputs": [],
   "source": [
    "kegg_compounds_df.to_csv(kegg_compounds_csv_file, index=False)\n",
    "du.dump_in_pickle(kegg_compounds_pickle_file, kegg_compounds)"
   ]
  },
  {
   "cell_type": "markdown",
   "metadata": {},
   "source": [
    "#### Import from data storage"
   ]
  },
  {
   "cell_type": "code",
   "execution_count": 83,
   "metadata": {},
   "outputs": [],
   "source": [
    "kegg_compounds_df = pd.read_csv(kegg_compounds_csv_file)\n",
    "kegg_compounds = du.read_from_pickle(kegg_compounds_pickle_file)"
   ]
  }
 ],
 "metadata": {
  "kernelspec": {
   "display_name": "Python 3",
   "language": "python",
   "name": "python3"
  },
  "language_info": {
   "codemirror_mode": {
    "name": "ipython",
    "version": 3
   },
   "file_extension": ".py",
   "mimetype": "text/x-python",
   "name": "python",
   "nbconvert_exporter": "python",
   "pygments_lexer": "ipython3",
   "version": "3.8.10"
  }
 },
 "nbformat": 4,
 "nbformat_minor": 4
}
