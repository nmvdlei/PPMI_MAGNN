{
 "cells": [
  {
   "cell_type": "code",
   "execution_count": 1,
   "id": "09421b58",
   "metadata": {},
   "outputs": [],
   "source": [
    "import data_utils as du\n",
    "import pandas as pd\n",
    "import networkx as nx\n",
    "\n",
    "data_dir = du.find_data_dir('app')\n",
    "dataloader_file = du.get_file_path(data_dir, 'class based structure', 'dataloaders', 'dataloader.p')\n",
    "dataloader = du.read_from_pickle(dataloader_file)"
   ]
  },
  {
   "cell_type": "code",
   "execution_count": 35,
   "id": "091afa80",
   "metadata": {},
   "outputs": [
    {
     "data": {
      "text/html": [
       "<style  type=\"text/css\" >\n",
       "</style><table id=\"T_e0e4d_\" ><thead>    <tr>        <th class=\"blank level0\" ></th>        <th class=\"col_heading level0 col0\" >Amount</th>        <th class=\"col_heading level0 col1\" >Percentage</th>    </tr></thead><tbody>\n",
       "                <tr>\n",
       "                        <th id=\"T_e0e4d_level0_row0\" class=\"row_heading level0 row0\" >-1</th>\n",
       "                        <td id=\"T_e0e4d_row0_col0\" class=\"data row0 col0\" >91</td>\n",
       "                        <td id=\"T_e0e4d_row0_col1\" class=\"data row0 col1\" >39.9%</td>\n",
       "            </tr>\n",
       "            <tr>\n",
       "                        <th id=\"T_e0e4d_level0_row1\" class=\"row_heading level0 row1\" >0</th>\n",
       "                        <td id=\"T_e0e4d_row1_col0\" class=\"data row1 col0\" >70</td>\n",
       "                        <td id=\"T_e0e4d_row1_col1\" class=\"data row1 col1\" >30.7%</td>\n",
       "            </tr>\n",
       "            <tr>\n",
       "                        <th id=\"T_e0e4d_level0_row2\" class=\"row_heading level0 row2\" >1</th>\n",
       "                        <td id=\"T_e0e4d_row2_col0\" class=\"data row2 col0\" >67</td>\n",
       "                        <td id=\"T_e0e4d_row2_col1\" class=\"data row2 col1\" >29.4%</td>\n",
       "            </tr>\n",
       "            <tr>\n",
       "                        <th id=\"T_e0e4d_level0_row3\" class=\"row_heading level0 row3\" >Total</th>\n",
       "                        <td id=\"T_e0e4d_row3_col0\" class=\"data row3 col0\" >228</td>\n",
       "                        <td id=\"T_e0e4d_row3_col1\" class=\"data row3 col1\" >100.0%</td>\n",
       "            </tr>\n",
       "    </tbody></table>"
      ],
      "text/plain": [
       "<pandas.io.formats.style.Styler at 0x7fbd66f3c1f0>"
      ]
     },
     "execution_count": 35,
     "metadata": {},
     "output_type": "execute_result"
    }
   ],
   "source": [
    "dataloader.target_distribution_stats()"
   ]
  },
  {
   "cell_type": "markdown",
   "id": "6fa60c9c",
   "metadata": {},
   "source": [
    "### Experimentation with ML models"
   ]
  },
  {
   "cell_type": "code",
   "execution_count": 28,
   "id": "58be37bb",
   "metadata": {},
   "outputs": [],
   "source": [
    "import scipy\n",
    "import numpy as np\n",
    "import matplotlib.pyplot as plt\n",
    "from matplotlib.colors import ListedColormap\n",
    "\n",
    "from sklearn.metrics import f1_score, SCORERS\n",
    "from sklearn.model_selection import train_test_split\n",
    "from sklearn.preprocessing import StandardScaler\n",
    "from sklearn.datasets import make_moons, make_circles, make_classification\n",
    "from sklearn.neural_network import MLPClassifier\n",
    "from sklearn.neighbors import KNeighborsClassifier\n",
    "from sklearn.svm import SVC\n",
    "from sklearn.gaussian_process import GaussianProcessClassifier\n",
    "from sklearn.gaussian_process.kernels import RBF\n",
    "from sklearn.tree import DecisionTreeClassifier\n",
    "from sklearn.ensemble import RandomForestClassifier, AdaBoostClassifier\n",
    "from sklearn.naive_bayes import GaussianNB\n",
    "from sklearn.discriminant_analysis import QuadraticDiscriminantAnalysis"
   ]
  },
  {
   "cell_type": "code",
   "execution_count": 49,
   "id": "2184081e",
   "metadata": {},
   "outputs": [
    {
     "name": "stdout",
     "output_type": "stream",
     "text": [
      "Nearest Neighbors 2\n",
      "Nearest Neighbors 4\n",
      "Linear SVM\n",
      "Gaussian Process\n",
      "Decision Tree\n",
      "Random Forest\n",
      "Neural Net\n",
      "AdaBoost\n",
      "Naive Bayes\n"
     ]
    },
    {
     "data": {
      "text/html": [
       "<style  type=\"text/css\" >\n",
       "</style><table id=\"T_a3304_\" ><thead>    <tr>        <th class=\"blank level0\" ></th>        <th class=\"col_heading level0 col0\" >f1_macro</th>        <th class=\"col_heading level0 col1\" >f1_micro</th>    </tr>    <tr>        <th class=\"index_name level0\" >Name</th>        <th class=\"blank\" ></th>        <th class=\"blank\" ></th>    </tr></thead><tbody>\n",
       "                <tr>\n",
       "                        <th id=\"T_a3304_level0_row0\" class=\"row_heading level0 row0\" >Nearest Neighbors 2</th>\n",
       "                        <td id=\"T_a3304_row0_col0\" class=\"data row0 col0\" >39.3%</td>\n",
       "                        <td id=\"T_a3304_row0_col1\" class=\"data row0 col1\" >46.5%</td>\n",
       "            </tr>\n",
       "            <tr>\n",
       "                        <th id=\"T_a3304_level0_row1\" class=\"row_heading level0 row1\" >Nearest Neighbors 4</th>\n",
       "                        <td id=\"T_a3304_row1_col0\" class=\"data row1 col0\" >38.9%</td>\n",
       "                        <td id=\"T_a3304_row1_col1\" class=\"data row1 col1\" >43.0%</td>\n",
       "            </tr>\n",
       "            <tr>\n",
       "                        <th id=\"T_a3304_level0_row2\" class=\"row_heading level0 row2\" >Linear SVM</th>\n",
       "                        <td id=\"T_a3304_row2_col0\" class=\"data row2 col0\" >33.8%</td>\n",
       "                        <td id=\"T_a3304_row2_col1\" class=\"data row2 col1\" >34.2%</td>\n",
       "            </tr>\n",
       "            <tr>\n",
       "                        <th id=\"T_a3304_level0_row3\" class=\"row_heading level0 row3\" >Gaussian Process</th>\n",
       "                        <td id=\"T_a3304_row3_col0\" class=\"data row3 col0\" >35.2%</td>\n",
       "                        <td id=\"T_a3304_row3_col1\" class=\"data row3 col1\" >43.9%</td>\n",
       "            </tr>\n",
       "            <tr>\n",
       "                        <th id=\"T_a3304_level0_row4\" class=\"row_heading level0 row4\" >Decision Tree</th>\n",
       "                        <td id=\"T_a3304_row4_col0\" class=\"data row4 col0\" >39.9%</td>\n",
       "                        <td id=\"T_a3304_row4_col1\" class=\"data row4 col1\" >44.7%</td>\n",
       "            </tr>\n",
       "            <tr>\n",
       "                        <th id=\"T_a3304_level0_row5\" class=\"row_heading level0 row5\" >Random Forest</th>\n",
       "                        <td id=\"T_a3304_row5_col0\" class=\"data row5 col0\" >37.6%</td>\n",
       "                        <td id=\"T_a3304_row5_col1\" class=\"data row5 col1\" >39.5%</td>\n",
       "            </tr>\n",
       "            <tr>\n",
       "                        <th id=\"T_a3304_level0_row6\" class=\"row_heading level0 row6\" >Neural Net</th>\n",
       "                        <td id=\"T_a3304_row6_col0\" class=\"data row6 col0\" >38.8%</td>\n",
       "                        <td id=\"T_a3304_row6_col1\" class=\"data row6 col1\" >41.2%</td>\n",
       "            </tr>\n",
       "            <tr>\n",
       "                        <th id=\"T_a3304_level0_row7\" class=\"row_heading level0 row7\" >AdaBoost</th>\n",
       "                        <td id=\"T_a3304_row7_col0\" class=\"data row7 col0\" >36.1%</td>\n",
       "                        <td id=\"T_a3304_row7_col1\" class=\"data row7 col1\" >39.5%</td>\n",
       "            </tr>\n",
       "            <tr>\n",
       "                        <th id=\"T_a3304_level0_row8\" class=\"row_heading level0 row8\" >Naive Bayes</th>\n",
       "                        <td id=\"T_a3304_row8_col0\" class=\"data row8 col0\" >33.2%</td>\n",
       "                        <td id=\"T_a3304_row8_col1\" class=\"data row8 col1\" >34.2%</td>\n",
       "            </tr>\n",
       "    </tbody></table>"
      ],
      "text/plain": [
       "<pandas.io.formats.style.Styler at 0x7fbd66e14220>"
      ]
     },
     "execution_count": 49,
     "metadata": {},
     "output_type": "execute_result"
    }
   ],
   "source": [
    "h = .02  # step size in the mesh\n",
    "\n",
    "names = [\"Nearest Neighbors 2\", \"Nearest Neighbors 4\", \"Linear SVM\", \"Gaussian Process\",\n",
    "         \"Decision Tree\", \"Random Forest\", \"Neural Net\", \"AdaBoost\",\n",
    "         \"Naive Bayes\"]\n",
    "\n",
    "classifiers = [\n",
    "    KNeighborsClassifier(2),\n",
    "    KNeighborsClassifier(4),\n",
    "    SVC(kernel=\"linear\", C=0.025),\n",
    "    GaussianProcessClassifier(1.0 * RBF(1.0)),\n",
    "    DecisionTreeClassifier(max_depth=5),\n",
    "    RandomForestClassifier(max_depth=5, n_estimators=100, max_features=1),\n",
    "    MLPClassifier(alpha=1, max_iter=1000),\n",
    "    AdaBoostClassifier(),\n",
    "    GaussianNB()\n",
    "]\n",
    "\n",
    "X, y = dataloader.X.values, np.array(dataloader.y).astype(int)\n",
    "\n",
    "# X = StandardScaler(with_mean=False).fit_transform(X)\n",
    "X_train, X_test, y_train, y_test = \\\n",
    "    train_test_split(X, y, test_size=.5, random_state=43)\n",
    "\n",
    "scores = []\n",
    "\n",
    "# iterate over classifiers\n",
    "for name, clf in zip(names, classifiers):\n",
    "    print(name)\n",
    "    clf.fit(X_train, y_train)\n",
    "    predicted = clf.predict(X_test)\n",
    "    f1_macro = f1_score(y_test, predicted, average='macro')\n",
    "    f1_micro = f1_score(y_test, predicted, average='micro')\n",
    "    scores.append((name, f1_macro, f1_micro))\n",
    "    \n",
    "df = pd.DataFrame(scores, columns=['Name', 'f1_macro', 'f1_micro']).set_index('Name', drop=True).style.format({'f1_macro': \"{:.1%}\", 'f1_micro': \"{:.1%}\"})\n",
    "df"
   ]
  }
 ],
 "metadata": {
  "kernelspec": {
   "display_name": "Python 3",
   "language": "python",
   "name": "python3"
  },
  "language_info": {
   "codemirror_mode": {
    "name": "ipython",
    "version": 3
   },
   "file_extension": ".py",
   "mimetype": "text/x-python",
   "name": "python",
   "nbconvert_exporter": "python",
   "pygments_lexer": "ipython3",
   "version": "3.8.10"
  }
 },
 "nbformat": 4,
 "nbformat_minor": 5
}
