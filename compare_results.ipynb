{
 "cells": [
  {
   "cell_type": "code",
   "execution_count": 13,
   "id": "e9e0b800",
   "metadata": {},
   "outputs": [
    {
     "data": {
      "text/html": [
       "<div>\n",
       "<style scoped>\n",
       "    .dataframe tbody tr th:only-of-type {\n",
       "        vertical-align: middle;\n",
       "    }\n",
       "\n",
       "    .dataframe tbody tr th {\n",
       "        vertical-align: top;\n",
       "    }\n",
       "\n",
       "    .dataframe thead th {\n",
       "        text-align: right;\n",
       "    }\n",
       "</style>\n",
       "<table border=\"1\" class=\"dataframe\">\n",
       "  <thead>\n",
       "    <tr style=\"text-align: right;\">\n",
       "      <th></th>\n",
       "      <th>0.8</th>\n",
       "      <th>0.6</th>\n",
       "      <th>0.4</th>\n",
       "      <th>0.2</th>\n",
       "    </tr>\n",
       "  </thead>\n",
       "  <tbody>\n",
       "    <tr>\n",
       "      <th>Best baseline</th>\n",
       "      <td>(36.3, 9)</td>\n",
       "      <td>(36.7, 8.8)</td>\n",
       "      <td>(35.2, 5.9)</td>\n",
       "      <td>(34.6, 4.5)</td>\n",
       "    </tr>\n",
       "    <tr>\n",
       "      <th>MAGNN 1</th>\n",
       "      <td>(32.4, 8.3)</td>\n",
       "      <td>(30.1, 5)</td>\n",
       "      <td>(32.3, 3.9)</td>\n",
       "      <td>(30.4, 3.7)</td>\n",
       "    </tr>\n",
       "    <tr>\n",
       "      <th>MAGNN 2</th>\n",
       "      <td>(37.5, 9.7)</td>\n",
       "      <td>(37.1, 4.9)</td>\n",
       "      <td>(40.1, 4.4)</td>\n",
       "      <td>(37.5, 4.5)</td>\n",
       "    </tr>\n",
       "    <tr>\n",
       "      <th>MAGNN 3</th>\n",
       "      <td>(42.2, 14.1)</td>\n",
       "      <td>(43.1, 8.9)</td>\n",
       "      <td>(42.0, 4.1)</td>\n",
       "      <td>(34.2, 8.7)</td>\n",
       "    </tr>\n",
       "  </tbody>\n",
       "</table>\n",
       "</div>"
      ],
      "text/plain": [
       "                        0.8          0.6          0.4          0.2\n",
       "Best baseline     (36.3, 9)  (36.7, 8.8)  (35.2, 5.9)  (34.6, 4.5)\n",
       "MAGNN 1         (32.4, 8.3)    (30.1, 5)  (32.3, 3.9)  (30.4, 3.7)\n",
       "MAGNN 2         (37.5, 9.7)  (37.1, 4.9)  (40.1, 4.4)  (37.5, 4.5)\n",
       "MAGNN 3        (42.2, 14.1)  (43.1, 8.9)  (42.0, 4.1)  (34.2, 8.7)"
      ]
     },
     "execution_count": 13,
     "metadata": {},
     "output_type": "execute_result"
    }
   ],
   "source": [
    "import matplotlib.pyplot as plt\n",
    "import numpy as np\n",
    "import pandas as pd\n",
    "\n",
    "train_sizes    = ['0.8', '0.6', '0.4', '0.2']\n",
    "names          = ['Best baseline', 'MAGNN 1', 'MAGNN 2', 'MAGNN 3']\n",
    "best_baseline  = [(36.3, 9), (36.7, 8.8), (35.2, 5.9), (34.6, 4.5)]\n",
    "MAGGN_1        = [(32.4, 8.3), (30.1, 5), (32.3, 3.9), (30.4, 3.7)]\n",
    "MAGGN_2        = [(37.5, 9.7), (37.1, 4.9), (40.1, 4.4), (37.5, 4.5)]\n",
    "MAGGN_3        = [(42.2, 14.1), (43.1, 8.9), (42.0, 4.1), (34.2, 8.7)]\n",
    "\n",
    "all_results = pd.DataFrame([ \n",
    "    best_baseline,\n",
    "    MAGGN_1,\n",
    "    MAGGN_2,\n",
    "    MAGGN_3], columns=train_sizes, index=names)\n",
    "\n",
    "all_results"
   ]
  },
  {
   "cell_type": "code",
   "execution_count": 9,
   "id": "8d73f32b",
   "metadata": {},
   "outputs": [],
   "source": [
    "def means(array):\n",
    "    return [res[0] for res in array]\n",
    "\n",
    "def stds(array):\n",
    "    return [res[1] for res in array]"
   ]
  },
  {
   "cell_type": "code",
   "execution_count": 10,
   "id": "bcb14e7a",
   "metadata": {},
   "outputs": [
    {
     "data": {
      "image/png": "[encoded data removed]",
      "text/plain": [
       "<Figure size 432x288 with 1 Axes>"
      ]
     },
     "metadata": {
      "needs_background": "light"
     },
     "output_type": "display_data"
    }
   ],
   "source": [
    "n = len(names)\n",
    "_names = np.arange(n)\n",
    "width = .7\n",
    "\n",
    "plt.rc('axes', axisbelow=True)\n",
    "plt.grid(which='major')\n",
    "plt.bar(_names-.3, means(all_results.loc[:, '0.8']), yerr=stds(all_results.loc[:, '0.8']), width=width/float(n), label='Train set ratio 0.8')\n",
    "plt.bar(_names-0.1, means(all_results.loc[:, '0.6']), yerr=stds(all_results.loc[:, '0.6']), width=width/float(n), label='Train set ratio 0.6')\n",
    "plt.bar(_names+.1, means(all_results.loc[:, '0.4']), yerr=stds(all_results.loc[:, '0.4']), width=width/float(n), label='Train set ratio 0.4')\n",
    "plt.bar(_names+0.3, means(all_results.loc[:, '0.2']), yerr=stds(all_results.loc[:, '0.2']), width=width/float(n), label='Train set ratio 0.2')\n",
    "plt.xticks(_names, names)\n",
    "\n",
    "\n",
    "plt.ylim([0,100])\n",
    "# plt.ylim([20,60])\n",
    "plt.legend(loc='upper left') \n",
    "plt.title(f'Macro F1 scores')\n",
    "plt.ylabel('Macro F1 score (%)')\n",
    "plt.show()"
   ]
  },
  {
   "cell_type": "code",
   "execution_count": 11,
   "id": "605faa65",
   "metadata": {},
   "outputs": [
    {
     "data": {
      "image/png": "[encoded data removed]",
      "text/plain": [
       "<Figure size 432x288 with 1 Axes>"
      ]
     },
     "metadata": {
      "needs_background": "light"
     },
     "output_type": "display_data"
    }
   ],
   "source": [
    "n = len(train_sizes)\n",
    "_train_sizes = np.arange(n)\n",
    "width = .7\n",
    "\n",
    "plt.rc('axes', axisbelow=True)\n",
    "plt.grid(which='major')\n",
    "plt.bar(_names-.3, means(all_results.loc['Best baseline', :]), yerr=stds(all_results.loc['Best baseline', :]), width=width/float(n), label='Best baseline')\n",
    "plt.bar(_names-0.1, means(all_results.loc['MAGNN 1', :]), yerr=stds(all_results.loc['MAGNN 1', :]), width=width/float(n), label='MAGNN 1')\n",
    "plt.bar(_names+.1, means(all_results.loc['MAGNN 2', :]), yerr=stds(all_results.loc['MAGNN 2', :]), width=width/float(n), label='MAGNN 2')\n",
    "plt.bar(_names+0.3, means(all_results.loc['MAGNN 3', :]), yerr=stds(all_results.loc['MAGNN 3', :]), width=width/float(n), label='MAGNN 3')\n",
    "plt.xticks(_train_sizes, train_sizes)\n",
    "\n",
    "\n",
    "plt.ylim([0,100])\n",
    "# plt.ylim([20,60])\n",
    "plt.legend(loc='upper right')\n",
    "plt.title(f'Macro F1 scores')\n",
    "plt.ylabel('Macro F1 score (%)')\n",
    "plt.show()"
   ]
  }
 ],
 "metadata": {
  "kernelspec": {
   "display_name": "Python 3",
   "language": "python",
   "name": "python3"
  },
  "language_info": {
   "codemirror_mode": {
    "name": "ipython",
    "version": 3
   },
   "file_extension": ".py",
   "mimetype": "text/x-python",
   "name": "python",
   "nbconvert_exporter": "python",
   "pygments_lexer": "ipython3",
   "version": "3.8.10"
  }
 },
 "nbformat": 4,
 "nbformat_minor": 5
}
